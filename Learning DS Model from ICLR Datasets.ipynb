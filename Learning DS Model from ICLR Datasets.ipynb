{
 "cells": [
  {
   "cell_type": "code",
   "execution_count": 35,
   "metadata": {},
   "outputs": [],
   "source": [
    "import numpy as np\n",
    "import pandas as pd\n",
    "import csv\n",
    "import random\n",
    "import matplotlib.pyplot as plt\n",
    "from scipy.special import comb\n",
    "import h5py"
   ]
  },
  {
   "cell_type": "markdown",
   "metadata": {},
   "source": [
    "# 1. Load Dataset"
   ]
  },
  {
   "cell_type": "markdown",
   "metadata": {},
   "source": [
    "Run either 1.1 or 1.2 to load the review data of ICLR 2020 and ICLR 2021, respectively. In both cases, the signal space is $\\{0,1,...,9\\}$."
   ]
  },
  {
   "cell_type": "markdown",
   "metadata": {},
   "source": [
    "## 1.1 ICLR 2020"
   ]
  },
  {
   "cell_type": "code",
   "execution_count": 24,
   "metadata": {},
   "outputs": [
    {
     "name": "stdout",
     "output_type": "stream",
     "text": [
      "Number of submissions:  1565\n"
     ]
    }
   ],
   "source": [
    "\"\"\"\n",
    "The dataset contains more information, while we will only use the 'rating' attribute which contains the review scores for each submission.\n",
    "\"\"\"\n",
    "filename = 'Datasets/ICLR_2020.hdf5'\n",
    "Reviews = [] # a list of numpy arraies each contains the reviews of every submission\n",
    "with h5py.File(filename, \"r\") as f:\n",
    "    a_group_key = list(f.keys())\n",
    "\n",
    "    for key in a_group_key:\n",
    "        review = []\n",
    "        for j in list(f[key]['rating']):\n",
    "            review.append(int(j-1))\n",
    "        if len(review) == 0:\n",
    "            continue\n",
    "        Reviews.append(np.array(review))\n",
    "\n",
    "print('Number of submissions: ', len(Reviews))"
   ]
  },
  {
   "cell_type": "markdown",
   "metadata": {},
   "source": [
    "## 1.2 ICLR 2021"
   ]
  },
  {
   "cell_type": "code",
   "execution_count": 23,
   "metadata": {},
   "outputs": [
    {
     "name": "stdout",
     "output_type": "stream",
     "text": [
      "Number of submissions:  2975\n"
     ]
    }
   ],
   "source": [
    "file = open('Datasets/ICLR_2021.csv', \"r\")\n",
    "csv_reader = csv.reader(file)\n",
    "lists_from_csv = []\n",
    "for row in csv_reader:\n",
    "    lists_from_csv.append(row)\n",
    "\n",
    "Reviews = []\n",
    "pattern = re.compile(r'\\d+')\n",
    "for i in range(1,len(lists_from_csv)):\n",
    "    Reviews.append((np.array(list(map(int, pattern.findall(lists_from_csv[i][3]))))-1).astype(int))\n",
    "\n",
    "print('Number of submissions: ', len(Reviews))"
   ]
  },
  {
   "cell_type": "markdown",
   "metadata": {},
   "source": [
    "# 2. Learning the DS Model Parameters"
   ]
  },
  {
   "cell_type": "markdown",
   "metadata": {},
   "source": [
    "The Dawid-Skene model has two parameters: 1) the prior distribution of paper quality, \"w\"; 2) the confusion matrix of the reviewers (Distribution of signals conditional on the true quality of the paper), \"Gamma\".\n",
    "\n",
    "To learn the DS model, we use the EM algorithm. We first fix a number of categories, \"L\", and seperate the review data into a training set (80) and a test set (20). Then, we initialize \"w\" and \"Gamma\" and run the EM algorithm. Within each iteration, given \"w\" and \"Gamma\", we use the training set to learn a posterior quality distribution for each paper; then the posterior distributions are used to update \"w\" and \"Gamma\"; we also use \"w\" and \"Gamma\" to compute the likelihood of the test set. \n",
    "\n",
    "In the end, we output a list of DS model parameters for each \"L\" and each iteration. We use the likelihood of the each model to assess its performance.\n",
    "\n",
    "Note that because of the randomness of seperation, each run will result in slightlt different parameters."
   ]
  },
  {
   "cell_type": "code",
   "execution_count": 28,
   "metadata": {},
   "outputs": [
    {
     "name": "stdout",
     "output_type": "stream",
     "text": [
      "cross_validation_round 0\n",
      "cross_validation_round 1\n",
      "cross_validation_round 2\n",
      "cross_validation_round 3\n",
      "cross_validation_round 4\n"
     ]
    },
    {
     "data": {
      "text/plain": [
       "Text(0, 0.5, 'Likelihood')"
      ]
     },
     "execution_count": 28,
     "metadata": {},
     "output_type": "execute_result"
    },
    {
     "data": {
      "image/png": "[encoded data removed]",
      "text/plain": [
       "<Figure size 432x288 with 1 Axes>"
      ]
     },
     "metadata": {
      "needs_background": "light"
     },
     "output_type": "display_data"
    }
   ],
   "source": [
    "\"\"\"\n",
    "Learning DS model from reviews with cross-validation\n",
    "\"\"\"\n",
    "\n",
    "def partition (list_in, k):\n",
    "    \"\"\"\n",
    "    Input: \"list_in\" is a list;\n",
    "           \"k\" is an integer, which indicates the number of subgroups of division.\n",
    "    Output: a list of k divisions.\n",
    "    The function randomly divids the input list \"list_in\" into k sublists with equal length (with error at most 1)\n",
    "    \"\"\"\n",
    "    random.shuffle(list_in)\n",
    "    return [list_in[i::k] for i in range(k)]\n",
    "\n",
    "n = len(Reviews) # number of submissions\n",
    "L_list = [4,5,6] # the list of the number of categories of paper quality\n",
    "Reviews_division = partition(Reviews,5) # Divide the review set into 5 subsets\n",
    "\n",
    "Likelihood = np.zeros((len(L_list),400))\n",
    "w_list = [np.zeros((400,L)) for L in L_list]\n",
    "Gamma_list = [np.zeros((400,L,10)) for L in L_list]\n",
    "\n",
    "\n",
    "# Cross validation\n",
    "for l in range(5):\n",
    "    print('cross_validation_round',l)\n",
    "    l_list = [0,1,2,3,4]\n",
    "    l_list.remove(l)\n",
    "    Reviews_train = []\n",
    "    \n",
    "    # pick l to be the test set, while the rest 4 subsets are combined as the training set\n",
    "    for ll in l_list: \n",
    "        Reviews_train += Reviews_division[ll] \n",
    "    Reviews_test = Reviews_division[l]\n",
    "    n_train = len(Reviews_train)\n",
    "    n_test = len(Reviews_test)\n",
    "\n",
    "    # Sort the training set based on the average review score\n",
    "    ag = np.zeros(n_train)\n",
    "    for i in range(n_train):\n",
    "        ag[i] = np.average(Reviews_train[i])\n",
    "    index = np.argsort(ag)\n",
    "    Reviews_train = [Reviews_train[i] for i in index] \n",
    "\n",
    "    # For each of the number of quality categories \n",
    "    for ii,L in enumerate(L_list):\n",
    "\n",
    "        w_train = np.ones(L)/L\n",
    "        Gamma_train = np.zeros((L,10))\n",
    "        Review_distribution_train = np.zeros((n_train,10))\n",
    "        Gamma_uniform = np.ones((L,10))/10\n",
    "        lam = 1e-3\n",
    "\n",
    "        for i in range(n_train):\n",
    "            Review_distribution_train[i] = np.bincount(Reviews_train[i], weights=None, minlength=10)\n",
    "\n",
    "        # Divide the sorted training set into 5 equal subsets; Initialize Gamma using the empirical score distribution of each category.\n",
    "        for s in range(L):\n",
    "            review = Review_distribution_train[(s)*int(n_train/L):(s+1)*int(n_train/L)]\n",
    "            Gamma_train[s] = np.sum(review, axis = 0)/np.sum(review)\n",
    "\n",
    "        # EM algorithm\n",
    "        t_train = np.zeros((n_train,L)) # the quality distribution of each paper in the training set\n",
    "        \n",
    "        # Iterate 400 times\n",
    "        for step in range(400):\n",
    "            \n",
    "            # update the posterior of each paper given w and Gamma\n",
    "            for i in range(n_train):\n",
    "                p_gamma = np.ones(L)\n",
    "                for s in Reviews_train[i]:\n",
    "                    p_gamma *= Gamma_train[:,s]\n",
    "                t_train[i] = w_train*p_gamma/np.sum(w_train*p_gamma)\n",
    "                \n",
    "            # Updata w and Gamma given the posterior of each paper\n",
    "            w_train = np.average(t_train, axis = 0)\n",
    "            Gamma_tmp = np.zeros((L,10))\n",
    "            for i in range(n_train):\n",
    "                for j in range(L):\n",
    "                    Gamma_tmp[j] += Review_distribution_train[i]*t_train[i,j]\n",
    "            for j in range(L):\n",
    "                Gamma_tmp[j] = Gamma_tmp[j]/np.sum(Gamma_tmp[j])\n",
    "                \n",
    "            # Regularization to avoid overfitting\n",
    "            Gamma_train = (1-lam)*Gamma_tmp + lam*Gamma_uniform\n",
    "            \n",
    "            # Compute the likelihood of the test set\n",
    "            for i in range(n_test):\n",
    "                li = w_train.copy()\n",
    "                for s in Reviews_test[i]:\n",
    "                    li *= Gamma_train[:,s]\n",
    "                Likelihood[ii,step] += np.log(np.sum(li))/(T*5)\n",
    "            w_list[ii][step] += w_train/(T*5)\n",
    "            Gamma_list[ii][step] += Gamma_train/(T*5)\n",
    "\n",
    "\n",
    "# Plot the likelihood on the test set\n",
    "for ii,L in enumerate(L_list):\n",
    "    index = np.argmax(Likelihood[ii])\n",
    "    plt.plot(np.arange(400),Likelihood[ii],label='L='+str(L))\n",
    "plt.legend()\n",
    "plt.xlabel('EM Iteration')\n",
    "plt.ylabel('Likelihood')"
   ]
  },
  {
   "cell_type": "code",
   "execution_count": 34,
   "metadata": {},
   "outputs": [],
   "source": [
    "\"\"\"\n",
    "Given a \"L\", pick the DS parameters that maximize the likelihood.\n",
    "\"\"\"\n",
    "\n",
    "########## Change L ##########\n",
    "# One can change L as long as L is in L_list, e.g. L = 4, 5.\n",
    "L = 4\n",
    "\n",
    "l = np.where(np.array(L_list) == L)[0][0]\n",
    "index = np.argmax(Likelihood[l])\n",
    "w = w_list[l][index]\n",
    "Gamma = Gamma_list[l][index]"
   ]
  },
  {
   "cell_type": "markdown",
   "metadata": {},
   "source": [
    "# 3. Learn the Quality of Each Category"
   ]
  },
  {
   "cell_type": "markdown",
   "metadata": {},
   "source": [
    "We attach each category of papers a value of their quality. To do so, we scale the average review score of each paper using an iversed sigmoid function. Then, we use the learned DS model to compute a distribution of categories for each paper. Finally, the value of quality attached to each category is the weighted average of the scaled review score."
   ]
  },
  {
   "cell_type": "code",
   "execution_count": null,
   "metadata": {},
   "outputs": [],
   "source": [
    "def inverse_sigmoid(x):\n",
    "    return -np.log((9-x)/x)\n",
    "\n",
    "# Compute the average review score of each paper and scale it with an inverse sigmoid function\n",
    "Ag_score = np.zeros(n)\n",
    "for i in range(n):\n",
    "    Ag_score[i] = np.average(Reviews[i])\n",
    "Ag_score_scaled = inverse_sigmoid(Ag_score)\n",
    "\n",
    "# Compute the distribution of each paper's category\n",
    "L = 4\n",
    "t = np.zeros((n,L))\n",
    "for i in range(n):\n",
    "    p_gamma = np.ones(L)\n",
    "    for s in Reviews[i]:\n",
    "        p_gamma *= Gamma[:,s]\n",
    "    t[i] = w*p_gamma/np.sum(w*p_gamma)\n",
    "\n",
    "# Compute the quality value of each category\n",
    "Q = np.zeros(L)\n",
    "for i in range(n):\n",
    "    Q += t[i]*Ag_score_scaled[i]\n",
    "Q /= np.sum(t,axis = 0)\n",
    "    \n",
    "print('Prior of quality, w = ',np.round(w,4),'\\n')\n",
    "gamma_frame = np.round(Gamma,4)\n",
    "df = pd.DataFrame(data=gamma_frame)\n",
    "print('Confusion matrix, Gamma = ')\n",
    "print(df,'\\n')\n",
    "print('Quality set = ',np.round(Q,4))"
   ]
  },
  {
   "cell_type": "code",
   "execution_count": 47,
   "metadata": {},
   "outputs": [],
   "source": [
    "\"\"\"\n",
    "Save the DS model parameters\n",
    "\"\"\"\n",
    "\n",
    "np.save('Learned Model/w_20_L4.npy', w)\n",
    "np.save('Learned Model/Gamma_20_L4.npy', Gamma)\n",
    "np.save('Learned Model/Q_20_L4.npy', Q)"
   ]
  },
  {
   "cell_type": "code",
   "execution_count": null,
   "metadata": {},
   "outputs": [],
   "source": []
  }
 ],
 "metadata": {
  "kernelspec": {
   "display_name": "Python 3",
   "language": "python",
   "name": "python3"
  },
  "language_info": {
   "codemirror_mode": {
    "name": "ipython",
    "version": 3
   },
   "file_extension": ".py",
   "mimetype": "text/x-python",
   "name": "python",
   "nbconvert_exporter": "python",
   "pygments_lexer": "ipython3",
   "version": "3.8.5"
  }
 },
 "nbformat": 4,
 "nbformat_minor": 4
}
